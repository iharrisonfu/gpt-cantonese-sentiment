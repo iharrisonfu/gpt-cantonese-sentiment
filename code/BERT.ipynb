{
 "cells": [
  {
   "cell_type": "markdown",
   "id": "969aa3a1",
   "metadata": {},
   "source": [
    "# Baidu API to translate Cantonese to Simplified Chinese"
   ]
  },
  {
   "cell_type": "code",
   "execution_count": 1,
   "id": "1d25c605",
   "metadata": {},
   "outputs": [],
   "source": [
    "import pandas as pd\n",
    "import numpy as np\n",
    "import re\n",
    "import jieba\n",
    "import matplotlib.pyplot as plt"
   ]
  },
  {
   "cell_type": "code",
   "execution_count": null,
   "id": "9b304cf1",
   "metadata": {},
   "outputs": [],
   "source": [
    "df = pd.read_excel('../data/sentiment_analysis_latest.xlsx')"
   ]
  },
  {
   "cell_type": "code",
   "execution_count": null,
   "id": "4788c7f3",
   "metadata": {},
   "outputs": [],
   "source": [
    "import requests\n",
    "import json\n",
    "\n",
    "def main():\n",
    "    api_key = 'xxxx'\n",
    "    secret_key = 'xxxx'\n",
    "    url = f\"xxxx\"\n",
    "    \n",
    "    payload = \"\"\n",
    "    headers = {\n",
    "        'Content-Type': 'application/json',\n",
    "        'Accept': 'application/json'\n",
    "    }\n",
    "    \n",
    "    response = requests.request(\"POST\", url, headers=headers, data=payload)\n",
    "    \n",
    "    print(response.text)\n",
    "    \n",
    "\n",
    "if __name__ == '__main__':\n",
    "    main()"
   ]
  },
  {
   "cell_type": "code",
   "execution_count": null,
   "id": "e601d429",
   "metadata": {},
   "outputs": [],
   "source": [
    "# This code shows an example of text translation from English to Simplified-Chinese.\n",
    "# This code runs on Python 2.7.x and Python 3.x.\n",
    "# You may install `requests` to run this code: pip install requests\n",
    "# Please refer to `https://api.fanyi.baidu.com/doc/21` for complete api document\n",
    "\n",
    "import requests\n",
    "import random\n",
    "import json\n",
    "\n",
    "access_token = \"xxxx\"\n",
    "token = access_token\n",
    "url = 'xxxx' + token\n",
    "\n",
    "\n",
    "# For list of language codes, please refer to `https://ai.baidu.com/ai-doc/MT/4kqryjku9#语种列表`\n",
    "from_lang = 'yue' # example: en\n",
    "to_lang = 'zh' # example: zh\n",
    "term_ids = '' # 术语库id，多个逗号隔开\n",
    "\n",
    "\n",
    "# Build request\n",
    "headers = {'Content-Type': 'application/json'}\n",
    "msg_sc_list = []\n",
    "\n",
    "for i in range(4627, len(df['msg_replace'])):\n",
    "    q = df['msg_replace'][i]\n",
    "    payload = {'q': q, 'from': from_lang, 'to': to_lang, 'termIds' : term_ids}\n",
    "\n",
    "    # Send request\n",
    "    r = requests.post(url, params=payload, headers=headers)\n",
    "    result = r.json()\n",
    "    msg_sc = result['result']['trans_result'][0]['dst']\n",
    "\n",
    "    # Show response\n",
    "    print(msg_sc)\n",
    "    msg_sc_list.append(msg_sc)"
   ]
  },
  {
   "cell_type": "code",
   "execution_count": null,
   "id": "659e6a61",
   "metadata": {},
   "outputs": [],
   "source": [
    "#df.to_excel('../data/bert_data/sentiment_analysis_sc_message.xlsx', index=False)"
   ]
  },
  {
   "cell_type": "code",
   "execution_count": 2,
   "id": "d7ecbfca",
   "metadata": {},
   "outputs": [],
   "source": [
    "df = pd.read_excel('../data/bert_data/sentiment_analysis_sc_message.xlsx')"
   ]
  },
  {
   "cell_type": "code",
   "execution_count": 3,
   "id": "67198856",
   "metadata": {},
   "outputs": [],
   "source": [
    "replace_tag = {'positive':2, 'neutral':1, 'negative':0}\n",
    "df['sentiment_label']= df['sentiment_label'].replace(replace_tag)"
   ]
  },
  {
   "cell_type": "code",
   "execution_count": 4,
   "id": "c899b32d",
   "metadata": {},
   "outputs": [],
   "source": [
    "df_sent = df[['msg_sc', 'sentiment_label']]"
   ]
  },
  {
   "cell_type": "code",
   "execution_count": 5,
   "id": "6d0776b2",
   "metadata": {},
   "outputs": [
    {
     "data": {
      "text/plain": [
       "1    3267\n",
       "0    1943\n",
       "2     959\n",
       "Name: sentiment_label, dtype: int64"
      ]
     },
     "execution_count": 5,
     "metadata": {},
     "output_type": "execute_result"
    }
   ],
   "source": [
    "df_sent['sentiment_label'].value_counts()"
   ]
  },
  {
   "cell_type": "markdown",
   "id": "e79f34d7",
   "metadata": {},
   "source": [
    "# BERT training"
   ]
  },
  {
   "cell_type": "code",
   "execution_count": 6,
   "id": "e21e05aa",
   "metadata": {},
   "outputs": [
    {
     "data": {
      "text/plain": [
       "'4.24.0'"
      ]
     },
     "execution_count": 6,
     "metadata": {},
     "output_type": "execute_result"
    }
   ],
   "source": [
    "import transformers\n",
    "transformers.__version__ "
   ]
  },
  {
   "cell_type": "code",
   "execution_count": 7,
   "id": "bf72817b",
   "metadata": {},
   "outputs": [],
   "source": [
    "import torch\n",
    "from torch.utils.data import Dataset, DataLoader\n",
    "from transformers import BertTokenizer, BertForSequenceClassification, AdamW\n",
    "from sklearn.model_selection import train_test_split"
   ]
  },
  {
   "cell_type": "code",
   "execution_count": 8,
   "id": "5006985d",
   "metadata": {},
   "outputs": [],
   "source": [
    "class SentimentDataset(Dataset):\n",
    "    def __init__(self, texts, labels, tokenizer, max_len):\n",
    "        self.texts = texts\n",
    "        self.labels = labels\n",
    "        self.tokenizer = tokenizer\n",
    "        self.max_len = max_len\n",
    "\n",
    "    def __len__(self):\n",
    "        return len(self.texts)\n",
    "\n",
    "    def __getitem__(self, idx):\n",
    "        text = str(self.texts[idx])\n",
    "        label = int(self.labels[idx])\n",
    "        encoding = self.tokenizer.encode_plus(\n",
    "            text,\n",
    "            add_special_tokens=True,\n",
    "            max_length=self.max_len,\n",
    "            return_token_type_ids=False,\n",
    "            padding='max_length',\n",
    "            return_attention_mask=True,\n",
    "            return_tensors='pt',\n",
    "            truncation=True\n",
    "        )\n",
    "        return {\n",
    "            'text': text,\n",
    "            'input_ids': encoding['input_ids'].flatten(),\n",
    "            'attention_mask': encoding['attention_mask'].flatten(),\n",
    "            'label': torch.tensor(label, dtype=torch.long)\n",
    "        }"
   ]
  },
  {
   "cell_type": "code",
   "execution_count": 9,
   "id": "9c5c2e9c",
   "metadata": {},
   "outputs": [
    {
     "name": "stderr",
     "output_type": "stream",
     "text": [
      "Some weights of the model checkpoint at bert-base-chinese were not used when initializing BertForSequenceClassification: ['cls.predictions.transform.LayerNorm.weight', 'cls.predictions.decoder.weight', 'cls.seq_relationship.bias', 'cls.predictions.bias', 'cls.predictions.transform.dense.weight', 'cls.seq_relationship.weight', 'cls.predictions.transform.dense.bias', 'cls.predictions.transform.LayerNorm.bias']\n",
      "- This IS expected if you are initializing BertForSequenceClassification from the checkpoint of a model trained on another task or with another architecture (e.g. initializing a BertForSequenceClassification model from a BertForPreTraining model).\n",
      "- This IS NOT expected if you are initializing BertForSequenceClassification from the checkpoint of a model that you expect to be exactly identical (initializing a BertForSequenceClassification model from a BertForSequenceClassification model).\n",
      "Some weights of BertForSequenceClassification were not initialized from the model checkpoint at bert-base-chinese and are newly initialized: ['classifier.weight', 'classifier.bias']\n",
      "You should probably TRAIN this model on a down-stream task to be able to use it for predictions and inference.\n",
      "C:\\ProgramData\\anaconda3\\lib\\site-packages\\transformers\\optimization.py:306: FutureWarning: This implementation of AdamW is deprecated and will be removed in a future version. Use the PyTorch implementation torch.optim.AdamW instead, or set `no_deprecation_warning=True` to disable this warning\n",
      "  warnings.warn(\n"
     ]
    }
   ],
   "source": [
    "# Load pre-trained BERT model and tokenizer from Hugging Face\n",
    "model = BertForSequenceClassification.from_pretrained('bert-base-chinese', num_labels=3)  # 3 labels: 0, 1, 2\n",
    "tokenizer = BertTokenizer.from_pretrained('bert-base-chinese')\n",
    "\n",
    "# Instantiate data\n",
    "train_data, val_data = train_test_split(df_sent, test_size=0.1)\n",
    "\n",
    "# Initialize dataset and dataloaders\n",
    "train_dataset = SentimentDataset(\n",
    "    texts=train_data['msg_sc'].to_numpy(),\n",
    "    labels=train_data['sentiment_label'].to_numpy(),\n",
    "    tokenizer=tokenizer,\n",
    "    max_len=128\n",
    ")\n",
    "\n",
    "val_dataset = SentimentDataset(\n",
    "    texts=val_data['msg_sc'].to_numpy(),\n",
    "    labels=val_data['sentiment_label'].to_numpy(),\n",
    "    tokenizer=tokenizer,\n",
    "    max_len=128\n",
    ")\n",
    "\n",
    "train_loader = DataLoader(train_dataset, batch_size=16, shuffle=True)\n",
    "val_loader = DataLoader(val_dataset, batch_size=16)\n",
    "\n",
    "# Setup GPU\n",
    "device = torch.device(\"cuda:0\" if torch.cuda.is_available() else \"cpu\")\n",
    "model.to(device)\n",
    "\n",
    "# Initialize optimizer\n",
    "optimizer = AdamW(model.parameters(), lr=2e-5)  # You can adjust learning rate"
   ]
  },
  {
   "cell_type": "code",
   "execution_count": 17,
   "id": "16fcca99",
   "metadata": {},
   "outputs": [
    {
     "data": {
      "text/plain": [
       "PreTrainedTokenizer(name_or_path='bert-base-chinese', vocab_size=21128, model_max_len=512, is_fast=False, padding_side='right', truncation_side='right', special_tokens={'unk_token': '[UNK]', 'sep_token': '[SEP]', 'pad_token': '[PAD]', 'cls_token': '[CLS]', 'mask_token': '[MASK]'})"
      ]
     },
     "execution_count": 17,
     "metadata": {},
     "output_type": "execute_result"
    }
   ],
   "source": [
    "tokenizer"
   ]
  },
  {
   "cell_type": "code",
   "execution_count": 10,
   "id": "7e46718c",
   "metadata": {},
   "outputs": [
    {
     "data": {
      "text/plain": [
       "'cuda'"
      ]
     },
     "execution_count": 10,
     "metadata": {},
     "output_type": "execute_result"
    }
   ],
   "source": [
    "\"cuda\" if torch.cuda.is_available() else \"cpu\""
   ]
  },
  {
   "cell_type": "code",
   "execution_count": 11,
   "id": "2e72d878",
   "metadata": {},
   "outputs": [
    {
     "name": "stdout",
     "output_type": "stream",
     "text": [
      "Epoch [1/10], Loss: 0.6419\n",
      "Training Accuracy: 0.7239\n",
      "Epoch [2/10], Loss: 0.4261\n",
      "Training Accuracy: 0.8321\n",
      "Epoch [3/10], Loss: 0.2532\n",
      "Training Accuracy: 0.9067\n",
      "Epoch [4/10], Loss: 0.1626\n",
      "Training Accuracy: 0.9433\n",
      "Epoch [5/10], Loss: 0.1118\n",
      "Training Accuracy: 0.9606\n",
      "Epoch [6/10], Loss: 0.0764\n",
      "Training Accuracy: 0.9744\n",
      "Epoch [7/10], Loss: 0.0706\n",
      "Training Accuracy: 0.9751\n",
      "Epoch [8/10], Loss: 0.0487\n",
      "Training Accuracy: 0.9822\n",
      "Epoch [9/10], Loss: 0.0714\n",
      "Training Accuracy: 0.9766\n",
      "Epoch [10/10], Loss: 0.0514\n",
      "Training Accuracy: 0.9831\n"
     ]
    }
   ],
   "source": [
    "from sklearn.metrics import accuracy_score\n",
    "\n",
    "num_epochs = 10  # Set the number of epochs\n",
    "train_loss_values = []\n",
    "train_acc_values = []\n",
    "\n",
    "for epoch in range(num_epochs):\n",
    "    model.train()  # Set model to training mode\n",
    "    total_train_loss = 0\n",
    "    all_labels = []\n",
    "    all_preds = []\n",
    "    \n",
    "    for batch in train_loader:\n",
    "        input_ids = batch['input_ids'].to(device)\n",
    "        attention_mask = batch['attention_mask'].to(device)\n",
    "        labels = batch['label'].to(device)\n",
    "\n",
    "        # Forward pass\n",
    "        outputs = model(input_ids, attention_mask=attention_mask, labels=labels)\n",
    "        loss, logits = outputs.loss, outputs.logits\n",
    "        total_train_loss += loss.item()\n",
    "\n",
    "        # Backward pass\n",
    "        optimizer.zero_grad()\n",
    "        loss.backward()\n",
    "        optimizer.step()\n",
    "        \n",
    "        # Calculate accuracy\n",
    "        preds = torch.argmax(logits, dim=1)  # Get the predicted class for each example in the batch\n",
    "        all_labels.append(labels.cpu().numpy())  # Append the actual labels\n",
    "        all_preds.append(preds.cpu().numpy())    # Append the model's predictions\n",
    "        \n",
    "    # Calculate and print the average loss over the epoch\n",
    "    avg_train_loss = total_train_loss / len(train_loader)\n",
    "    print(f\"Epoch [{epoch+1}/{num_epochs}], Loss: {avg_train_loss:.4f}\")\n",
    "    \n",
    "    # Flatten lists of predictions and labels and calculate accuracy\n",
    "    flat_labels = [item for sublist in all_labels for item in sublist]\n",
    "    flat_preds = [item for sublist in all_preds for item in sublist]\n",
    "    train_acc = accuracy_score(flat_labels, flat_preds)\n",
    "    \n",
    "    train_loss_values.append(avg_train_loss)\n",
    "    train_acc_values.append(train_acc)\n",
    "    \n",
    "    print(f\"Training Accuracy: {train_acc:.4f}\")"
   ]
  },
  {
   "cell_type": "code",
   "execution_count": 12,
   "id": "4473cd4e",
   "metadata": {},
   "outputs": [
    {
     "data": {
      "image/png": "[encoded data removed]",
      "text/plain": [
       "<Figure size 640x480 with 1 Axes>"
      ]
     },
     "metadata": {},
     "output_type": "display_data"
    },
    {
     "data": {
      "image/png": "[encoded data removed]",
      "text/plain": [
       "<Figure size 640x480 with 1 Axes>"
      ]
     },
     "metadata": {},
     "output_type": "display_data"
    }
   ],
   "source": [
    "# Plotting\n",
    "epochs = range(1, num_epochs + 1)\n",
    "\n",
    "plt.plot(epochs, train_loss_values, 'b', label='Training loss')\n",
    "plt.title('Training Loss')\n",
    "plt.xlabel('Epochs')\n",
    "plt.ylabel('Loss')\n",
    "plt.legend()\n",
    "plt.show()\n",
    "\n",
    "plt.plot(epochs, train_acc_values, 'b', label='Training accuracy')\n",
    "plt.title('Training Accuracy')\n",
    "plt.xlabel('Epochs')\n",
    "plt.ylabel('Accuracy')\n",
    "plt.legend()\n",
    "plt.show()"
   ]
  },
  {
   "cell_type": "code",
   "execution_count": 13,
   "id": "d1b4009a",
   "metadata": {},
   "outputs": [],
   "source": [
    "def flat_accuracy(preds, labels):\n",
    "    pred_flat = np.argmax(preds, axis=1).flatten()\n",
    "    labels_flat = labels.flatten()\n",
    "    return np.sum(pred_flat == labels_flat) / len(labels_flat)"
   ]
  },
  {
   "cell_type": "code",
   "execution_count": 15,
   "id": "e854588b",
   "metadata": {},
   "outputs": [
    {
     "name": "stdout",
     "output_type": "stream",
     "text": [
      "Test Loss: 1.0993\n",
      "Test Accuracy: 0.7844\n",
      "Test F1 Score: 0.7843\n"
     ]
    }
   ],
   "source": [
    "from sklearn.metrics import f1_score\n",
    "\n",
    "model.eval()\n",
    "total_eval_loss = 0\n",
    "all_labels = []\n",
    "all_preds = []\n",
    "\n",
    "for batch in val_loader:\n",
    "    input_ids = batch['input_ids'].to(device)\n",
    "    attention_mask = batch['attention_mask'].to(device)\n",
    "    labels = batch['label'].to(device)\n",
    "\n",
    "    with torch.no_grad():  \n",
    "        outputs = model(input_ids, attention_mask=attention_mask, labels=labels)\n",
    "\n",
    "    loss = outputs.loss\n",
    "    logits = outputs.logits\n",
    "\n",
    "    total_eval_loss += loss.item()\n",
    "\n",
    "    logits = logits.detach().cpu().numpy()\n",
    "    labels = labels.to('cpu').numpy()\n",
    "    \n",
    "    preds = np.argmax(logits, axis=1)\n",
    "    all_labels.append(labels)\n",
    "    all_preds.append(preds)\n",
    "\n",
    "# Flatten the list of results for scikit-learn\n",
    "flat_labels = [item for sublist in all_labels for item in sublist]\n",
    "flat_preds = [item for sublist in all_preds for item in sublist]\n",
    "\n",
    "# Calculate metrics\n",
    "avg_val_loss = total_eval_loss / len(val_loader)\n",
    "val_accuracy = accuracy_score(flat_labels, flat_preds)\n",
    "val_f1 = f1_score(flat_labels, flat_preds, average='weighted')  # weighted average of f1 score for multi-class classification\n",
    "\n",
    "print(f\"Test Loss: {avg_val_loss:.4f}\")\n",
    "print(f\"Test Accuracy: {val_accuracy:.4f}\")\n",
    "print(f\"Test F1 Score: {val_f1:.4f}\")"
   ]
  },
  {
   "cell_type": "code",
   "execution_count": null,
   "id": "8b9157ff",
   "metadata": {},
   "outputs": [],
   "source": []
  },
  {
   "cell_type": "code",
   "execution_count": null,
   "id": "6ace3f0a",
   "metadata": {},
   "outputs": [],
   "source": []
  }
 ],
 "metadata": {
  "kernelspec": {
   "display_name": "venv",
   "language": "python",
   "name": "venv"
  },
  "language_info": {
   "codemirror_mode": {
    "name": "ipython",
    "version": 3
   },
   "file_extension": ".py",
   "mimetype": "text/x-python",
   "name": "python",
   "nbconvert_exporter": "python",
   "pygments_lexer": "ipython3",
   "version": "3.10.9"
  }
 },
 "nbformat": 4,
 "nbformat_minor": 5
}
