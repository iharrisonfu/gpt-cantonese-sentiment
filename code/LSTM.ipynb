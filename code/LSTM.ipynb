{
 "cells": [
  {
   "cell_type": "code",
   "execution_count": 156,
   "id": "1a8599b8",
   "metadata": {
    "scrolled": true
   },
   "outputs": [],
   "source": [
    "#pip install tensorflow==2.9.2"
   ]
  },
  {
   "cell_type": "code",
   "execution_count": 2,
   "id": "1bf373f2",
   "metadata": {},
   "outputs": [],
   "source": [
    "import pandas as pd\n",
    "import numpy as np\n",
    "import re\n",
    "import jieba\n",
    "import matplotlib.pyplot as plt"
   ]
  },
  {
   "cell_type": "code",
   "execution_count": 155,
   "id": "168518d9",
   "metadata": {},
   "outputs": [],
   "source": [
    "df = pd.read_excel('../data/sentiment_analysis_latest.xlsx')"
   ]
  },
  {
   "cell_type": "code",
   "execution_count": 4,
   "id": "7c023a4d",
   "metadata": {},
   "outputs": [
    {
     "data": {
      "text/plain": [
       "neutral     3267\n",
       "negative    1943\n",
       "positive     959\n",
       "Name: sentiment_label, dtype: int64"
      ]
     },
     "execution_count": 4,
     "metadata": {},
     "output_type": "execute_result"
    }
   ],
   "source": [
    "df['sentiment_label'].value_counts()"
   ]
  },
  {
   "cell_type": "code",
   "execution_count": 154,
   "id": "367c5000",
   "metadata": {},
   "outputs": [],
   "source": [
    "replace_tag = {'positive':2, 'neutral':1, 'negative':0}\n",
    "df['sentiment_label']= df['sentiment_label'].replace(replace_tag)"
   ]
  },
  {
   "cell_type": "markdown",
   "id": "c874003f",
   "metadata": {},
   "source": [
    "# 1. tokenization"
   ]
  },
  {
   "cell_type": "code",
   "execution_count": 6,
   "id": "0c26c989",
   "metadata": {},
   "outputs": [
    {
     "name": "stderr",
     "output_type": "stream",
     "text": [
      "Building prefix dict from C:\\Users\\Harrison\\Downloads\\2023_07_19_supplemet_material\\2023_07_19_supplemet_material\\data\\tokenization_dict\\dict.txt ...\n",
      "Loading model from cache C:\\Users\\Harrison\\AppData\\Local\\Temp\\jieba.u92fdb9fc4f964cbd4d35e3368f83bac9.cache\n",
      "Loading model cost 0.660 seconds.\n",
      "Prefix dict has been built successfully.\n"
     ]
    }
   ],
   "source": [
    "# load self-defined tokenization dictionary\n",
    "jieba.set_dictionary('../data/tokenization_dict/dict.txt')\n",
    "jieba.load_userdict('../data/tokenization_dict/hk_dict.txt')"
   ]
  },
  {
   "cell_type": "code",
   "execution_count": 7,
   "id": "7ef251d6",
   "metadata": {
    "scrolled": true
   },
   "outputs": [
    {
     "data": {
      "text/plain": [
       "{'一啲',\n",
       " '一定',\n",
       " '不如',\n",
       " '不過',\n",
       " '之後',\n",
       " '乜',\n",
       " '乜嘢',\n",
       " '人哋',\n",
       " '但係',\n",
       " '你',\n",
       " '你哋',\n",
       " '佢',\n",
       " '佢哋',\n",
       " '係',\n",
       " '個',\n",
       " '其他',\n",
       " '冇',\n",
       " '再',\n",
       " '到',\n",
       " '即',\n",
       " '即係',\n",
       " '原來',\n",
       " '去',\n",
       " '又',\n",
       " '可以',\n",
       " '可能',\n",
       " '同',\n",
       " '同埋',\n",
       " '吖',\n",
       " '呀',\n",
       " '呢',\n",
       " '咁',\n",
       " '咗',\n",
       " '咩',\n",
       " '咪',\n",
       " '哦',\n",
       " '哩',\n",
       " '哩個',\n",
       " '哩啲',\n",
       " '哩度',\n",
       " '哩樣',\n",
       " '唔',\n",
       " '唔使',\n",
       " '唔係',\n",
       " '啊',\n",
       " '啲',\n",
       " '喎',\n",
       " '喺',\n",
       " '喺度',\n",
       " '嗯',\n",
       " '嗰',\n",
       " '嗰個',\n",
       " '嗰啲',\n",
       " '嗰度',\n",
       " '嘅',\n",
       " '嘢',\n",
       " '噉',\n",
       " '噉樣',\n",
       " '因為',\n",
       " '多',\n",
       " '太',\n",
       " '好',\n",
       " '如果',\n",
       " '就',\n",
       " '已經',\n",
       " '幾',\n",
       " '幾多',\n",
       " '得',\n",
       " '想',\n",
       " '應該',\n",
       " '成日',\n",
       " '我',\n",
       " '我哋',\n",
       " '或者',\n",
       " '所以',\n",
       " '最',\n",
       " '會',\n",
       " '有',\n",
       " '有冇',\n",
       " '有啲',\n",
       " '未',\n",
       " '梗係',\n",
       " '然之後',\n",
       " '由',\n",
       " '真係',\n",
       " '睇',\n",
       " '知',\n",
       " '而',\n",
       " '而家',\n",
       " '自己',\n",
       " '要',\n",
       " '覺得',\n",
       " '話',\n",
       " '諗',\n",
       " '講',\n",
       " '譬如',\n",
       " '跟住',\n",
       " '返',\n",
       " '過',\n",
       " '邊個',\n",
       " '都',\n",
       " '點',\n",
       " '點樣',\n",
       " '點解'}"
      ]
     },
     "execution_count": 7,
     "metadata": {},
     "output_type": "execute_result"
    }
   ],
   "source": [
    "# import stopwords list\n",
    "import pycantonese\n",
    "stop_words = pycantonese.stop_words()\n",
    "stop_words  "
   ]
  },
  {
   "cell_type": "code",
   "execution_count": 152,
   "id": "f96748c9",
   "metadata": {},
   "outputs": [],
   "source": [
    "# keep Chinese char, English words and numbers, and then remove stopwords\n",
    "stop_words = [w.replace('\\n', '') for w in stop_words]\n",
    "stop_words = [w.replace(' ', '') for w in stop_words]\n",
    "speech_list = list(df['msg_replace'])\n",
    "rule = re.compile(r\"[^\\u4e00-\\u9fa5\\u0030-\\u0039\\u0041-\\u005a\\u0061-\\u007a\\u4e00-\\u9fa5]\")\n",
    "speech_list = [list(jieba.cut(rule.sub('', speech))) for speech in speech_list]\n",
    "for idx, speech in enumerate(speech_list):\n",
    "    speech_list[idx] = ' '.join([word for word in speech if word.strip() not in stop_words])"
   ]
  },
  {
   "cell_type": "code",
   "execution_count": 153,
   "id": "ba3c7884",
   "metadata": {},
   "outputs": [],
   "source": [
    "df['msg_token'] = speech_list"
   ]
  },
  {
   "cell_type": "markdown",
   "id": "8b129611",
   "metadata": {},
   "source": [
    "# 2. training and test set split"
   ]
  },
  {
   "cell_type": "code",
   "execution_count": 35,
   "id": "884eb716",
   "metadata": {},
   "outputs": [],
   "source": [
    "from keras.preprocessing.text import Tokenizer\n",
    "from keras_preprocessing.sequence import pad_sequences\n",
    "from keras.models import Sequential\n",
    "from keras.layers import Dense, Embedding, LSTM, SpatialDropout1D\n",
    "from sklearn.model_selection import train_test_split\n",
    "from keras.utils.np_utils import to_categorical\n",
    "from keras.layers import Dropout\n",
    "from keras.optimizers import Adam"
   ]
  },
  {
   "cell_type": "code",
   "execution_count": 65,
   "id": "27728960",
   "metadata": {},
   "outputs": [
    {
     "name": "stdout",
     "output_type": "stream",
     "text": [
      "There are totally 10442 different tokens.\n"
     ]
    }
   ],
   "source": [
    "MAX_NB_WORDS = 3000\n",
    "MAX_SEQUENCE_LENGTH = 300\n",
    "EMBEDDING_DIM = 100\n",
    "\n",
    "df['msg_token'] = df['msg_token'].fillna(\"\")\n",
    "tokenizer = Tokenizer(num_words=MAX_NB_WORDS, filters='!\"#$%&()*+,-./:;<=>?@[\\]^_`{|}~', lower=True)\n",
    "tokenizer.fit_on_texts(df['msg_token'].values)\n",
    "word_index = tokenizer.word_index\n",
    "print('There are totally %s different tokens.' % len(word_index))"
   ]
  },
  {
   "cell_type": "code",
   "execution_count": 72,
   "id": "7943240a",
   "metadata": {},
   "outputs": [
    {
     "name": "stdout",
     "output_type": "stream",
     "text": [
      "(6169, 300)\n",
      "(6169, 3)\n"
     ]
    }
   ],
   "source": [
    "# vectorization\n",
    "X = tokenizer.texts_to_sequences(df['msg_token'].values)\n",
    "X = pad_sequences(X, maxlen=MAX_SEQUENCE_LENGTH)\n",
    "Y = pd.get_dummies(df['sentiment_label']).values\n",
    "\n",
    "print(X.shape)\n",
    "print(Y.shape)"
   ]
  },
  {
   "cell_type": "code",
   "execution_count": 73,
   "id": "a87df1f5",
   "metadata": {},
   "outputs": [
    {
     "name": "stdout",
     "output_type": "stream",
     "text": [
      "(4935, 300) (4935, 3)\n",
      "(1234, 300) (1234, 3)\n"
     ]
    }
   ],
   "source": [
    "# split training and test set\n",
    "X_train, X_test, Y_train, Y_test = train_test_split(X,Y, test_size = 0.20, random_state = 42)\n",
    "print(X_train.shape,Y_train.shape)\n",
    "print(X_test.shape,Y_test.shape)"
   ]
  },
  {
   "cell_type": "code",
   "execution_count": 74,
   "id": "0125e15f",
   "metadata": {},
   "outputs": [
    {
     "data": {
      "text/plain": [
       "array([[   0,    0,    0, ...,   64,    6,   65],\n",
       "       [   0,    0,    0, ...,   65,   26,   17],\n",
       "       [   0,    0,    0, ...,  167, 1257,  912],\n",
       "       ...,\n",
       "       [   0,    0,    0, ...,    0,    0,   17],\n",
       "       [   0,    0,    0, ...,    0, 1143,  526],\n",
       "       [   0,    0,    0, ...,  206,   25,  526]])"
      ]
     },
     "execution_count": 74,
     "metadata": {},
     "output_type": "execute_result"
    }
   ],
   "source": [
    "X"
   ]
  },
  {
   "cell_type": "markdown",
   "id": "6fd50939",
   "metadata": {},
   "source": [
    "# 3. LSTM model"
   ]
  },
  {
   "cell_type": "code",
   "execution_count": 151,
   "id": "6e4db9ab",
   "metadata": {},
   "outputs": [
    {
     "name": "stdout",
     "output_type": "stream",
     "text": [
      "Model: \"sequential_26\"\n",
      "_________________________________________________________________\n",
      " Layer (type)                Output Shape              Param #   \n",
      "=================================================================\n",
      " embedding_26 (Embedding)    (None, 300, 100)          300000    \n",
      "                                                                 \n",
      " lstm_26 (LSTM)              (None, 100)               80400     \n",
      "                                                                 \n",
      " dense_40 (Dense)            (None, 256)               25856     \n",
      "                                                                 \n",
      " dense_41 (Dense)            (None, 3)                 771       \n",
      "                                                                 \n",
      "=================================================================\n",
      "Total params: 407,027\n",
      "Trainable params: 407,027\n",
      "Non-trainable params: 0\n",
      "_________________________________________________________________\n",
      "None\n"
     ]
    },
    {
     "name": "stderr",
     "output_type": "stream",
     "text": [
      "C:\\Users\\Harrison\\AppData\\Roaming\\Python\\Python310\\site-packages\\keras\\optimizers\\optimizer_v2\\adam.py:110: UserWarning: The `lr` argument is deprecated, use `learning_rate` instead.\n",
      "  super(Adam, self).__init__(name, **kwargs)\n"
     ]
    }
   ],
   "source": [
    "# model hyperparameter setting\n",
    "model = Sequential()\n",
    "model.add(Embedding(MAX_NB_WORDS, EMBEDDING_DIM, input_length=X.shape[1]))\n",
    "model.add(LSTM(100, dropout=0.5, recurrent_dropout=0.2))\n",
    "model.add(Dense(256,  activation='relu'))\n",
    "model.add(Dense(3, activation='softmax'))\n",
    "optimizer=Adam(lr=0.01)\n",
    "model.compile(loss='categorical_crossentropy', optimizer=optimizer, metrics=['accuracy'])\n",
    "print(model.summary())"
   ]
  },
  {
   "cell_type": "code",
   "execution_count": 143,
   "id": "c201bde0",
   "metadata": {
    "scrolled": true
   },
   "outputs": [
    {
     "name": "stdout",
     "output_type": "stream",
     "text": [
      "Epoch 1/10\n",
      "70/70 [==============================] - 22s 287ms/step - loss: 0.8880 - accuracy: 0.5981 - val_loss: 0.8585 - val_accuracy: 0.6012\n",
      "Epoch 2/10\n",
      "70/70 [==============================] - 15s 215ms/step - loss: 0.6919 - accuracy: 0.7179 - val_loss: 0.8638 - val_accuracy: 0.6417\n",
      "Epoch 3/10\n",
      "70/70 [==============================] - 14s 205ms/step - loss: 0.6043 - accuracy: 0.7494 - val_loss: 1.0606 - val_accuracy: 0.6012\n",
      "Epoch 4/10\n",
      "70/70 [==============================] - 14s 206ms/step - loss: 0.5784 - accuracy: 0.7669 - val_loss: 1.0784 - val_accuracy: 0.5891\n",
      "Epoch 5/10\n",
      "70/70 [==============================] - 15s 211ms/step - loss: 0.5773 - accuracy: 0.7665 - val_loss: 1.0876 - val_accuracy: 0.5729\n",
      "Epoch 6/10\n",
      "70/70 [==============================] - 15s 208ms/step - loss: 0.5779 - accuracy: 0.7683 - val_loss: 1.1226 - val_accuracy: 0.5951\n",
      "Epoch 7/10\n",
      "70/70 [==============================] - 14s 205ms/step - loss: 0.5670 - accuracy: 0.7755 - val_loss: 1.1765 - val_accuracy: 0.5769\n",
      "Epoch 8/10\n",
      "70/70 [==============================] - 14s 203ms/step - loss: 0.5453 - accuracy: 0.7861 - val_loss: 0.9896 - val_accuracy: 0.5850\n",
      "Epoch 9/10\n",
      "70/70 [==============================] - 14s 204ms/step - loss: 0.5480 - accuracy: 0.7879 - val_loss: 1.2217 - val_accuracy: 0.5830\n",
      "Epoch 10/10\n",
      "70/70 [==============================] - 18s 255ms/step - loss: 0.5194 - accuracy: 0.7971 - val_loss: 1.2159 - val_accuracy: 0.5648\n"
     ]
    }
   ],
   "source": [
    "# model training \n",
    "epochs = 10\n",
    "batch_size = 64\n",
    "\n",
    "history = model.fit(X_train, Y_train, epochs=epochs, batch_size=batch_size, validation_split=0.1)"
   ]
  },
  {
   "cell_type": "markdown",
   "id": "96b09380",
   "metadata": {},
   "source": [
    "# 4. evaluation"
   ]
  },
  {
   "cell_type": "code",
   "execution_count": 144,
   "id": "33d3c2b9",
   "metadata": {},
   "outputs": [
    {
     "data": {
      "text/plain": [
       "dict_keys(['loss', 'accuracy', 'val_loss', 'val_accuracy'])"
      ]
     },
     "execution_count": 144,
     "metadata": {},
     "output_type": "execute_result"
    }
   ],
   "source": [
    "history.history.keys()"
   ]
  },
  {
   "cell_type": "code",
   "execution_count": 145,
   "id": "ad56ddbe",
   "metadata": {
    "scrolled": true
   },
   "outputs": [
    {
     "data": {
      "image/png": "[encoded data removed]",
      "text/plain": [
       "<Figure size 640x480 with 1 Axes>"
      ]
     },
     "metadata": {},
     "output_type": "display_data"
    }
   ],
   "source": [
    "plt.title('Loss')\n",
    "plt.plot(history.history['loss'], label='train')\n",
    "plt.legend()\n",
    "plt.show();"
   ]
  },
  {
   "cell_type": "code",
   "execution_count": 146,
   "id": "89f1129f",
   "metadata": {
    "scrolled": true
   },
   "outputs": [
    {
     "data": {
      "image/png": "[encoded data removed]",
      "text/plain": [
       "<Figure size 640x480 with 1 Axes>"
      ]
     },
     "metadata": {},
     "output_type": "display_data"
    }
   ],
   "source": [
    "plt.title('Accuracy')\n",
    "plt.plot(history.history['accuracy'], label='train')\n",
    "plt.legend()\n",
    "plt.show();"
   ]
  },
  {
   "cell_type": "code",
   "execution_count": 147,
   "id": "54da2ef5",
   "metadata": {},
   "outputs": [
    {
     "name": "stdout",
     "output_type": "stream",
     "text": [
      "39/39 [==============================] - 1s 20ms/step\n"
     ]
    }
   ],
   "source": [
    "y_pred = model.predict(X_test)\n",
    "y_pred = y_pred.argmax(axis = 1)"
   ]
  },
  {
   "cell_type": "code",
   "execution_count": 148,
   "id": "98cb7ab7",
   "metadata": {},
   "outputs": [
    {
     "data": {
      "text/plain": [
       "array([1, 1, 1, ..., 1, 1, 1], dtype=int64)"
      ]
     },
     "execution_count": 148,
     "metadata": {},
     "output_type": "execute_result"
    }
   ],
   "source": [
    "Y_test"
   ]
  },
  {
   "cell_type": "code",
   "execution_count": 149,
   "id": "12b34c53",
   "metadata": {},
   "outputs": [
    {
     "data": {
      "text/plain": [
       "array([1, 1, 1, ..., 1, 1, 1], dtype=int64)"
      ]
     },
     "execution_count": 149,
     "metadata": {},
     "output_type": "execute_result"
    }
   ],
   "source": [
    "y_pred"
   ]
  },
  {
   "cell_type": "code",
   "execution_count": 150,
   "id": "0ba115f5",
   "metadata": {},
   "outputs": [
    {
     "name": "stdout",
     "output_type": "stream",
     "text": [
      "              precision    recall  f1-score   support\n",
      "\n",
      "           0       0.62      0.60      0.61       380\n",
      "           1       0.70      0.73      0.72       666\n",
      "           2       0.41      0.38      0.40       188\n",
      "\n",
      "    accuracy                           0.64      1234\n",
      "   macro avg       0.58      0.57      0.57      1234\n",
      "weighted avg       0.63      0.64      0.63      1234\n",
      "\n"
     ]
    }
   ],
   "source": [
    "from sklearn.metrics import classification_report\n",
    "target_names = ['0', '1', '2']\n",
    "print(classification_report(Y_test, y_pred, target_names=target_names))"
   ]
  },
  {
   "cell_type": "code",
   "execution_count": null,
   "id": "4c5bc4e0",
   "metadata": {},
   "outputs": [],
   "source": []
  },
  {
   "cell_type": "code",
   "execution_count": null,
   "id": "5f4cec06",
   "metadata": {},
   "outputs": [],
   "source": []
  },
  {
   "cell_type": "code",
   "execution_count": null,
   "id": "0110f8c7",
   "metadata": {},
   "outputs": [],
   "source": []
  }
 ],
 "metadata": {
  "kernelspec": {
   "display_name": "venv",
   "language": "python",
   "name": "venv"
  },
  "language_info": {
   "codemirror_mode": {
    "name": "ipython",
    "version": 3
   },
   "file_extension": ".py",
   "mimetype": "text/x-python",
   "name": "python",
   "nbconvert_exporter": "python",
   "pygments_lexer": "ipython3",
   "version": "3.10.9"
  }
 },
 "nbformat": 4,
 "nbformat_minor": 5
}
